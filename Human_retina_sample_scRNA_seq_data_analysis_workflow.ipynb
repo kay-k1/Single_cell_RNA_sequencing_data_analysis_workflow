{
 "cells": [
  {
   "cell_type": "markdown",
   "metadata": {},
   "source": [
    "# Human retina sample scRNA-seq data analysis workflow\n",
    "# Running each of these cells will go through and implement the individual stages of the scRNA-seq data analysis workflow"
   ]
  },
  {
   "cell_type": "markdown",
   "metadata": {},
   "source": [
    "### Importing the time module to record the running time of individual cells in the Jupyter notebook "
   ]
  },
  {
   "cell_type": "code",
   "execution_count": null,
   "metadata": {},
   "outputs": [],
   "source": [
    "import time\n",
    "start_time = time.time()"
   ]
  },
  {
   "cell_type": "markdown",
   "metadata": {},
   "source": [
    "### Installing all the packages required for the various stages of analysis"
   ]
  },
  {
   "cell_type": "code",
   "execution_count": null,
   "metadata": {},
   "outputs": [],
   "source": [
    "%%time\n",
    "# These packages are pre-installed on Google Colab, but are included here to simplify running this notebook locally\n",
    "!pip install matplotlib\n",
    "!pip install scikit-learn\n",
    "!pip install numpy\n",
    "!pip install scipy\n",
    "!pip install leidenalg\n",
    "!pip install scanpy"
   ]
  },
  {
   "cell_type": "markdown",
   "metadata": {},
   "source": [
    "### Installing the kb-python package for the processing scRNA-seq reads"
   ]
  },
  {
   "cell_type": "code",
   "execution_count": null,
   "metadata": {},
   "outputs": [],
   "source": [
    "%%time\n",
    "!pip install kb-python "
   ]
  },
  {
   "cell_type": "markdown",
   "metadata": {},
   "source": [
    "### Downloading the FASTQ files from the ArrayExpress https://www.ebi.ac.uk/arrayexpress/experiments/E-MTAB-7316/samples/\n",
    "### using the wget command"
   ]
  },
  {
   "cell_type": "code",
   "execution_count": null,
   "metadata": {},
   "outputs": [],
   "source": [
    "%%time\n",
    "!wget --continue ftp://ftp.sra.ebi.ac.uk/vol1/fastq/SRR842/008/SRR8426358/SRR8426358_1.fastq.gz\n",
    "!wget --continue ftp://ftp.sra.ebi.ac.uk/vol1/fastq/SRR842/008/SRR8426358/SRR8426358_2.fastq.gz"
   ]
  },
  {
   "cell_type": "markdown",
   "metadata": {},
   "source": [
    "### Downloading a human referecne transcriptome index and a transcript to gene map using the kb ref command"
   ]
  },
  {
   "cell_type": "code",
   "execution_count": null,
   "metadata": {},
   "outputs": [],
   "source": [
    "!kb ref -d human -i index.idx -g t2g.txt -f1 transcriptome.fasta"
   ]
  },
  {
   "cell_type": "markdown",
   "metadata": {},
   "source": [
    "### Using the kb command to process the scRNA-seq data downloaded using the wget command\n",
    "### This command pseudoaligns and counts reads to produce a cells x genes unfiltered count matrix \n",
    "###  Unfiltered count matrix is generated in adata.h5ad file format"
   ]
  },
  {
   "cell_type": "code",
   "execution_count": null,
   "metadata": {},
   "outputs": [],
   "source": [
    "%%time\n",
    "!kb count --h5ad -i index.idx -g t2g.txt -x 10xv2 -o output --filter bustools -t 2 \\\n",
    "ae_exp_raw_r1_R1.fastq.gz \\\n",
    "ae_exp_raw_r1_R2.fastq.gz"
   ]
  },
  {
   "cell_type": "markdown",
   "metadata": {},
   "source": [
    "### Setting up QC by importing the necessary modules and packagaes"
   ]
  },
  {
   "cell_type": "code",
   "execution_count": null,
   "metadata": {},
   "outputs": [],
   "source": [
    "import anndata\n",
    "import pandas as pd\n",
    "import numpy as np\n",
    "import matplotlib.pyplot as plt\n",
    "import matplotlib as mpl\n",
    "import matplotlib.patches as mpatches\n",
    "import scanpy as sc\n",
    "from scipy import stats\n",
    "\n",
    "from collections import OrderedDict\n",
    "from sklearn.decomposition import TruncatedSVD\n",
    "from sklearn.manifold import TSNE\n",
    "from sklearn.preprocessing import scale\n",
    "\n",
    "from sklearn.cluster import KMeans\n",
    "from sklearn.preprocessing import normalize\n",
    "from sklearn.preprocessing import LabelEncoder\n",
    "from sklearn.neighbors import NeighborhoodComponentsAnalysis\n",
    "from matplotlib import cm\n",
    "from matplotlib.lines import Line2D\n",
    "\n",
    "def nd(arr):\n",
    "    return np.asarray(arr).reshape(-1)\n",
    "def yex(ax):\n",
    "    lims = [np.min([ax.get_xlim(), ax.get_ylim()]),\n",
    "            np.max([ax.get_xlim(), ax.get_ylim()])]\n",
    "\n",
    "    # now plot both limits against eachother\n",
    "    ax.plot(lims, lims, 'k-', alpha=0.75, zorder=0)\n",
    "    ax.set_aspect('equal')\n",
    "    ax.set_xlim(lims)\n",
    "    ax.set_ylim(lims)\n",
    "    return ax\n",
    "\n",
    "def trim_axs(axs, N):\n",
    "    \"\"\"little helper to massage the axs list to have correct length...\"\"\"\n",
    "    axs = axs.flat\n",
    "    for ax in axs[N:]:\n",
    "        ax.remove()\n",
    "    return axs[:N]\n",
    "\n",
    "import warnings\n",
    "warnings.filterwarnings('ignore')\n",
    "\n",
    "fsize=20\n",
    "\n",
    "plt.rcParams.update({'font.size': fsize})\n",
    "%config InlineBackend.figure_format = 'retina'"
   ]
  },
  {
   "cell_type": "markdown",
   "metadata": {},
   "source": [
    "### Loading in the unfiltered count matrix "
   ]
  },
  {
   "cell_type": "code",
   "execution_count": null,
   "metadata": {},
   "outputs": [],
   "source": [
    "adata = anndata.read_h5ad(\"output/counts_unfiltered/adata.h5ad\")\n",
    "adata.var[\"gene_id\"] = adata.var.index.values\n",
    "\n",
    "t2g = pd.read_csv(\"t2g.txt\", header=None, names=[\"tid\", \"gene_id\", \"gene_name\"], sep=\"\\t\")\n",
    "t2g.index = t2g.gene_id\n",
    "t2g = t2g.loc[~t2g.index.duplicated(keep='first')]\n",
    "\n",
    "adata.var[\"gene_name\"] = adata.var.gene_id.map(t2g[\"gene_name\"])\n",
    "adata.var.index = adata.var[\"gene_name\"]"
   ]
  },
  {
   "cell_type": "markdown",
   "metadata": {},
   "source": [
    "### Reading the shape of the unfiltered count matrix to see the number of cells and genes in the matrix "
   ]
  },
  {
   "cell_type": "code",
   "execution_count": null,
   "metadata": {},
   "outputs": [],
   "source": [
    "adata"
   ]
  },
  {
   "cell_type": "markdown",
   "metadata": {},
   "source": [
    "### Setting QC and filtering parameters"
   ]
  },
  {
   "cell_type": "code",
   "execution_count": null,
   "metadata": {},
   "outputs": [],
   "source": [
    "num_TSNE = 2\n",
    "state = 42\n",
    "metric = \"euclidean\"\n",
    "n_neighbors = 30\n",
    "num_PCA = 50\n",
    "num_NCA = 10\n",
    "\n",
    "# Filtering parameters\n",
    "\n",
    "cell_threshold = 100 \n",
    "gene_threshold = 3 \n",
    "mito_criteria = 30 \n",
    "\n",
    "n_top_genes = 5000 # Top 5000 most variable genes selected for PCA\n",
    "\n",
    "n_bins = 20\n",
    "\n",
    "flavor=\"seurat\""
   ]
  },
  {
   "cell_type": "code",
   "execution_count": null,
   "metadata": {},
   "outputs": [],
   "source": [
    "adata.obs[\"cell_counts\"] = adata.X.sum(axis=1)\n",
    "adata.var[\"gene_counts\"] = nd(adata.X.sum(axis=0))\n",
    "\n",
    "adata.obs[\"n_genes\"] = nd((adata.X>0).sum(axis=1))\n",
    "adata.var[\"n_cells\"] = nd((adata.X>0).sum(axis=0))\n",
    "\n",
    "mito_genes = adata.var_names.str.startswith('mt-')\n",
    "adata.obs[\"percent_mito\"] = adata[:,mito_genes].X.sum(axis=1)/adata.X.sum(axis=1)*100"
   ]
  },
  {
   "cell_type": "markdown",
   "metadata": {},
   "source": [
    "### Generating a knee plot"
   ]
  },
  {
   "cell_type": "code",
   "execution_count": null,
   "metadata": {},
   "outputs": [],
   "source": [
    "#@title Threshold cells according to knee plot { run: \"auto\", vertical-output: true }\n",
    "expected_num_cells = 3000#@param {type:\"integer\"}\n",
    "knee = np.sort(nd(adata.X.sum(axis=1)))[::-1]\n",
    "\n",
    "fig, ax = plt.subplots(figsize=(5, 5))\n",
    "\n",
    "x = knee\n",
    "y = range(len(knee))\n",
    "\n",
    "ax.loglog(x, y, linewidth=5, color=\"g\")\n",
    "\n",
    "ax.axvline(x=knee[expected_num_cells], linewidth=3, color=\"k\")\n",
    "ax.axhline(y=expected_num_cells, linewidth=3, color=\"k\")\n",
    "\n",
    "ax.set_xlabel(\"UMI Counts\")\n",
    "ax.set_ylabel(\"Set of Barcodes\")\n",
    "\n",
    "plt.show()"
   ]
  },
  {
   "cell_type": "markdown",
   "metadata": {},
   "source": [
    "### Generating a percentage (%) mitchondrial read plot"
   ]
  },
  {
   "cell_type": "code",
   "execution_count": null,
   "metadata": {},
   "outputs": [],
   "source": [
    "fig, ax = plt.subplots(figsize=(5,5))\n",
    "\n",
    "x = nd(adata.obs[\"cell_counts\"])\n",
    "y = nd(adata.obs[\"percent_mito\"])\n",
    "\n",
    "ax.scatter(x, y, color=\"green\", alpha=0.25)\n",
    "\n",
    "ax.axhline(y=mito_criteria, linestyle=\"--\", color=\"k\")\n",
    "\n",
    "ax.set_xlabel(\"UMI Counts\")\n",
    "ax.set_ylabel(\"Percent mito\")\n",
    "\n",
    "plt.show()"
   ]
  },
  {
   "cell_type": "markdown",
   "metadata": {},
   "source": [
    "### Applying filtering parameters to filter out low quality cells\n",
    "### Printing the shape of unfiltered and filtered count matrix to see how many cells and genes have been filtered out"
   ]
  },
  {
   "cell_type": "code",
   "execution_count": null,
   "metadata": {},
   "outputs": [],
   "source": [
    "adata.obs[\"pass_count_filter\"] = adata.obs[\"cell_counts\"] > cell_threshold\n",
    "adata.obs[\"pass_mito_filter\"] = adata.obs.percent_mito < mito_criteria\n",
    "adata.var[\"pass_gene_filter\"] = adata.var[\"n_cells\"] > gene_threshold"
   ]
  },
  {
   "cell_type": "code",
   "execution_count": null,
   "metadata": {},
   "outputs": [],
   "source": [
    "cell_mask = np.logical_and(adata.obs[\"pass_count_filter\"].values, adata.obs[\"pass_mito_filter\"].values)\n",
    "gene_mask = adata.var[\"pass_gene_filter\"].values"
   ]
  },
  {
   "cell_type": "code",
   "execution_count": null,
   "metadata": {},
   "outputs": [],
   "source": [
    "print(\"Current Shape: {:,} cells x {:,} genes\".format(adata.shape[0], adata.shape[1]))\n",
    "print(\"    New shape: {:,} cells x {:,} genes\".format(cell_mask.sum(), gene_mask.sum()))"
   ]
  },
  {
   "cell_type": "markdown",
   "metadata": {},
   "source": [
    "## From now on the filtered count matrix will be used for analysis "
   ]
  },
  {
   "cell_type": "code",
   "execution_count": null,
   "metadata": {},
   "outputs": [],
   "source": [
    "data = adata[cell_mask, gene_mask]"
   ]
  },
  {
   "cell_type": "markdown",
   "metadata": {},
   "source": [
    "### Generating a library saturation plot"
   ]
  },
  {
   "cell_type": "code",
   "execution_count": null,
   "metadata": {},
   "outputs": [],
   "source": [
    "fig, ax = plt.subplots(figsize=(5, 5))\n",
    "\n",
    "x = nd(data.X.sum(axis=1))\n",
    "y = nd(np.sum(data.X>0, axis=1))\n",
    "\n",
    "ax.scatter(x, y, color=\"green\", alpha=0.25)\n",
    "\n",
    "ax.set_xlabel(\"UMI Counts\")\n",
    "ax.set_ylabel(\"Genes Detected\")\n",
    "ax.set_xscale('log')\n",
    "ax.set_yscale('log')\n",
    "\n",
    "ax.set_xlim(1)\n",
    "ax.set_ylim(1)\n",
    "\n",
    "plt.show()"
   ]
  },
  {
   "cell_type": "markdown",
   "metadata": {},
   "source": [
    "### Generating a data density plot"
   ]
  },
  {
   "cell_type": "code",
   "execution_count": null,
   "metadata": {},
   "outputs": [],
   "source": [
    "fig, ax = plt.subplots(figsize=(5,5))\n",
    "\n",
    "#histogram definition\n",
    "bins = [1500, 1500] # number of bins\n",
    "\n",
    "# histogram the data\n",
    "hh, locx, locy = np.histogram2d(x, y, bins=bins)\n",
    "\n",
    "# Sort the points by density, so that the densest points are plotted last\n",
    "z = np.array([hh[np.argmax(a<=locx[1:]),np.argmax(b<=locy[1:])] for a,b in zip(x,y)])\n",
    "idx = z.argsort()\n",
    "x2, y2, z2 = x[idx], y[idx], z[idx]\n",
    "\n",
    "s = ax.scatter(x2, y2, c=z2, cmap='Greens')  \n",
    "fig.colorbar(s, ax=ax)\n",
    "\n",
    "ax.set_xscale('log')\n",
    "ax.set_yscale('log')\n",
    "ax.set_xlabel(\"UMI Counts\")\n",
    "ax.set_ylabel(\"Genes Detected\")\n",
    "\n",
    "ax.set_xlim(1, 10**5)\n",
    "ax.set_ylim(1, 10**4)\n",
    "\n",
    "plt.show()"
   ]
  },
  {
   "cell_type": "markdown",
   "metadata": {},
   "source": [
    "### Reading in the shape of the filtered count matrix "
   ]
  },
  {
   "cell_type": "code",
   "execution_count": null,
   "metadata": {},
   "outputs": [],
   "source": [
    "data"
   ]
  },
  {
   "cell_type": "markdown",
   "metadata": {},
   "source": [
    "### Using Scanpy to generate a plot of the top 20 genes with the highest fraction of counts across all cells"
   ]
  },
  {
   "cell_type": "code",
   "execution_count": null,
   "metadata": {},
   "outputs": [],
   "source": [
    "fig, ax = plt.subplots(figsize=(5, 10))\n",
    "sc.pl.highest_expr_genes(data, n_top=20, ax = ax)"
   ]
  },
  {
   "cell_type": "markdown",
   "metadata": {},
   "source": [
    "### Setting up the violin plot \n",
    "### The violin plot displays the distribution in the number genes detected, UMI counts and percentage (%) reads mapping to mitochondrial genes"
   ]
  },
  {
   "cell_type": "code",
   "execution_count": null,
   "metadata": {},
   "outputs": [],
   "source": [
    "def vplot(y, ax):\n",
    "    parts = ax.violinplot(\n",
    "        y, showmeans=False, showmedians=False,\n",
    "        showextrema=False)\n",
    "\n",
    "    mean = y.mean()\n",
    "    ax.scatter(1, mean, zorder=10, color=\"white\")\n",
    "    \n",
    "    x = np.random.normal(1, 0.04, size=len(y))\n",
    "    ax.scatter(x, y, color=\"k\", s=1)\n",
    "    \n",
    "    for pc in parts['bodies']:\n",
    "        pc.set_facecolor('#D43F3A')\n",
    "        pc.set_edgecolor('black')\n",
    "        pc.set_alpha(1)\n",
    "    \n",
    "    ax.set_xticks([1])\n",
    "    ax.set_xticklabels([\"\"])\n",
    "    return ax"
   ]
  },
  {
   "cell_type": "markdown",
   "metadata": {},
   "source": [
    "### Generating the violin plot"
   ]
  },
  {
   "cell_type": "code",
   "execution_count": null,
   "metadata": {},
   "outputs": [],
   "source": [
    "fig, ax = plt.subplots(figsize=(5*3,5), ncols=3)\n",
    "\n",
    "x1 = data.obs[\"n_genes\"]\n",
    "x2 = nd(data.X.sum(axis=1))\n",
    "x3 = data.obs[\"percent_mito\"]\n",
    "\n",
    "vplot(x1, ax[0])\n",
    "vplot(x2, ax[1])\n",
    "vplot(x3, ax[2])\n",
    "\n",
    "ax[0].set_ylabel(\"Genes detected\")\n",
    "ax[1].set_ylabel(\"UMI counts\")\n",
    "ax[2].set_ylabel(\"Percent Mito\")\n",
    "\n",
    "plt.tight_layout()\n",
    "plt.show()"
   ]
  },
  {
   "cell_type": "markdown",
   "metadata": {},
   "source": [
    "### Processing the matrix prior to clustering, data visualisation and differential expression\n",
    "\n",
    "### Normalizing counts by converting them into CPM (counts per million) units and then log(CPM+1)"
   ]
  },
  {
   "cell_type": "code",
   "execution_count": null,
   "metadata": {},
   "outputs": [],
   "source": [
    "data.layers[\"raw\"] = data.X"
   ]
  },
  {
   "cell_type": "code",
   "execution_count": null,
   "metadata": {},
   "outputs": [],
   "source": [
    "scale_num = 1000000\n",
    "data.layers[\"norm\"] = normalize(data.X, norm=\"l1\", axis=1)*scale_num"
   ]
  },
  {
   "cell_type": "code",
   "execution_count": null,
   "metadata": {},
   "outputs": [],
   "source": [
    "data.layers[\"log1p\"] = np.log1p(data.layers[\"norm\"])\n",
    "data.uns = OrderedDict([(\"log1p\", {\"base\":None})])"
   ]
  },
  {
   "cell_type": "code",
   "execution_count": null,
   "metadata": {},
   "outputs": [],
   "source": [
    "data.X = data.layers[\"log1p\"]"
   ]
  },
  {
   "cell_type": "markdown",
   "metadata": {},
   "source": [
    "### Using Scanpy to detect highly variable genes in the normalized data"
   ]
  },
  {
   "cell_type": "code",
   "execution_count": null,
   "metadata": {},
   "outputs": [],
   "source": [
    "sc.pp.highly_variable_genes(data, n_top_genes=n_top_genes, flavor=flavor, n_bins=n_bins)\n",
    "hvg_mask = data.var.highly_variable.values"
   ]
  },
  {
   "cell_type": "markdown",
   "metadata": {},
   "source": [
    "### Making a dense matrix as the scaling operation cannot be performed on a sparse matrix "
   ]
  },
  {
   "cell_type": "code",
   "execution_count": null,
   "metadata": {},
   "outputs": [],
   "source": [
    "%%time\n",
    "mat = data.layers[\"log1p\"].todense()\n",
    "data.layers[\"scale\"] = scale(mat, axis=0, with_mean=True, with_std=True, copy=True)\n",
    "data.X = data.layers[\"scale\"]\n",
    "\n",
    "del mat"
   ]
  },
  {
   "cell_type": "markdown",
   "metadata": {},
   "source": [
    "### Performing PCA (Principal components analysis) on the highly variable genes"
   ]
  },
  {
   "cell_type": "code",
   "execution_count": null,
   "metadata": {},
   "outputs": [],
   "source": [
    "%%time\n",
    "X = data.X[:,hvg_mask]\n",
    "\n",
    "tsvd = TruncatedSVD(n_components=num_PCA)\n",
    "data.obsm[\"X_pca\"] = tsvd.fit_transform(X)"
   ]
  },
  {
   "cell_type": "markdown",
   "metadata": {},
   "source": [
    "### Using Scanpy to compute a neighbourhood graph. Then using Scanpy to cluster the cells, using the Leiden algorithm  "
   ]
  },
  {
   "cell_type": "code",
   "execution_count": null,
   "metadata": {},
   "outputs": [],
   "source": [
    "sc.pp.neighbors(data, n_neighbors=n_neighbors, n_pcs=num_PCA, random_state=state)"
   ]
  },
  {
   "cell_type": "code",
   "execution_count": null,
   "metadata": {},
   "outputs": [],
   "source": [
    "sc.tl.leiden(data, random_state=state)"
   ]
  },
  {
   "cell_type": "markdown",
   "metadata": {},
   "source": [
    "### Performing dimensionality reduction using t-SNE (t-Distributed Stochastic Neighbor Embedding)"
   ]
  },
  {
   "cell_type": "code",
   "execution_count": null,
   "metadata": {},
   "outputs": [],
   "source": [
    "X = data.obsm[\"X_pca\"]\n",
    "\n",
    "tsne = TSNE(n_components=num_TSNE, metric=metric, random_state=state)\n",
    "data.obsm[\"X_pca_tsne\"] = tsne.fit_transform(X)"
   ]
  },
  {
   "cell_type": "markdown",
   "metadata": {},
   "source": [
    "### Performing NCA (Neighbourhood components analysis)"
   ]
  },
  {
   "cell_type": "code",
   "execution_count": null,
   "metadata": {},
   "outputs": [],
   "source": [
    "X = data.X\n",
    "y = data.obs.leiden.values \n",
    "\n",
    "nca = NeighborhoodComponentsAnalysis(n_components=num_NCA,random_state=state)\n",
    "data.obsm[\"X_nca\"] = nca.fit_transform(X, y)"
   ]
  },
  {
   "cell_type": "markdown",
   "metadata": {},
   "source": [
    "### Generating a t-SNE of the NCA projection"
   ]
  },
  {
   "cell_type": "code",
   "execution_count": null,
   "metadata": {},
   "outputs": [],
   "source": [
    "X = data.obsm[\"X_nca\"]\n",
    "tsne = TSNE(n_components=num_TSNE, metric=metric, random_state=state)\n",
    "data.obsm[\"X_nca_tsne\"] = tsne.fit_transform(X)"
   ]
  },
  {
   "cell_type": "markdown",
   "metadata": {},
   "source": [
    "### Visualisation of PCA followed by t-SNE"
   ]
  },
  {
   "cell_type": "code",
   "execution_count": null,
   "metadata": {},
   "outputs": [],
   "source": [
    "fig, ax = plt.subplots(figsize=(7,7))\n",
    "\n",
    "x = data.obsm[\"X_pca_tsne\"][:,0]\n",
    "y = data.obsm[\"X_pca_tsne\"][:,1]\n",
    "c = data.obs[\"leiden\"].astype(int)\n",
    "\n",
    "ax.scatter(x, y, c = c, cmap='tab20')\n",
    "\n",
    "ax.set_axis_off()\n",
    "\n",
    "plt.tight_layout()\n",
    "plt.show()"
   ]
  },
  {
   "cell_type": "markdown",
   "metadata": {},
   "source": [
    "### Visualisation of NCA followed by t-SNE"
   ]
  },
  {
   "cell_type": "code",
   "execution_count": null,
   "metadata": {},
   "outputs": [],
   "source": [
    "fig, ax = plt.subplots(figsize=(7,7))\n",
    "\n",
    "x = data.obsm[\"X_nca_tsne\"][:,0]\n",
    "y = data.obsm[\"X_nca_tsne\"][:,1]\n",
    "c = data.obs[\"leiden\"].astype(int)\n",
    "\n",
    "ax.scatter(x, y, c = c, cmap='tab20')\n",
    "\n",
    "ax.set_axis_off()\n",
    "\n",
    "plt.tight_layout()\n",
    "plt.show()"
   ]
  },
  {
   "cell_type": "markdown",
   "metadata": {},
   "source": [
    "## Finding marker genes using different statistical methods"
   ]
  },
  {
   "cell_type": "markdown",
   "metadata": {},
   "source": [
    "### Using the t-test to rank the top 25 genes in each cluster\n",
    "\n",
    "### Genes in each cluster are ranked accroding to how different they are relative to all other clusters"
   ]
  },
  {
   "cell_type": "code",
   "execution_count": null,
   "metadata": {},
   "outputs": [],
   "source": [
    "sc.tl.rank_genes_groups(data, 'leiden', method='t-test', corr_method=\"bonferroni\")\n",
    "sc.pl.rank_genes_groups(data, n_genes=25, sharey=False)"
   ]
  },
  {
   "cell_type": "markdown",
   "metadata": {},
   "source": [
    "### Using the Wilcoxon rank-sum (Mann-Whitney-U) test to rank the top 25 genes in each cluster \n",
    "\n",
    "### Genes in each cluster are ranked accroding to how different they are relative to all other clusters"
   ]
  },
  {
   "cell_type": "code",
   "execution_count": null,
   "metadata": {},
   "outputs": [],
   "source": [
    "sc.tl.rank_genes_groups(data, 'leiden', method='wilcoxon', corr_method=\"bonferroni\")\n",
    "sc.pl.rank_genes_groups(data, n_genes=25, sharey=False)"
   ]
  },
  {
   "cell_type": "markdown",
   "metadata": {},
   "source": [
    "### Using logistic regression to rank the top 25 genes in each cluster \n",
    "\n",
    "### Genes in each cluster are ranked accroding to how different they are relative to all other clusters"
   ]
  },
  {
   "cell_type": "code",
   "execution_count": null,
   "metadata": {},
   "outputs": [],
   "source": [
    "sc.tl.rank_genes_groups(data, 'leiden', method='logreg')\n",
    "sc.pl.rank_genes_groups(data, n_genes=25, sharey=False)"
   ]
  },
  {
   "cell_type": "markdown",
   "metadata": {},
   "source": [
    "### Selecting the Wilcoxon rank-sum (Mann-Whitney-U) test as the statistical method of choice for ranking genes in each cluster according to how different they are relative to all other clusters"
   ]
  },
  {
   "cell_type": "code",
   "execution_count": null,
   "metadata": {},
   "outputs": [],
   "source": [
    "sc.tl.rank_genes_groups(data, 'leiden', method='wilcoxon', corr_method=\"bonferroni\")"
   ]
  },
  {
   "cell_type": "markdown",
   "metadata": {},
   "source": [
    "### Using pandas to generate a Dataframe of the genes ranked in each cluster\n",
    "\n",
    "### Writing the pandas DataFrame to a CSV file"
   ]
  },
  {
   "cell_type": "code",
   "execution_count": null,
   "metadata": {},
   "outputs": [],
   "source": [
    "df = pd.DataFrame(data.uns['rank_genes_groups']['names'])\n",
    "df.to_csv('Ranked_genes.csv')"
   ]
  },
  {
   "cell_type": "markdown",
   "metadata": {},
   "source": [
    "### Creating a table to display the top marker gene for each cluster and it's corresponding p-value"
   ]
  },
  {
   "cell_type": "code",
   "execution_count": null,
   "metadata": {},
   "outputs": [],
   "source": [
    "genes = pd.DataFrame(data.uns['rank_genes_groups']['names']).to_numpy()\n",
    "pvals = pd.DataFrame(data.uns['rank_genes_groups']['pvals']).to_numpy()"
   ]
  },
  {
   "cell_type": "code",
   "execution_count": null,
   "metadata": {},
   "outputs": [],
   "source": [
    "unique = np.unique(data.obs.leiden.values.astype(int)).astype(str)\n",
    "markers_gene = pd.DataFrame(index=unique, columns=[\"gene_name\", \"p_value\"])"
   ]
  },
  {
   "cell_type": "code",
   "execution_count": null,
   "metadata": {},
   "outputs": [],
   "source": [
    "for un, u in enumerate(unique):\n",
    "    g = genes[:,un]\n",
    "    p = pvals[:,un]\n",
    "    markers_gene.loc[u][\"gene_name\"]  = g.tolist()\n",
    "    markers_gene.loc[u][\"p_value\"] = p.tolist()"
   ]
  },
  {
   "cell_type": "code",
   "execution_count": null,
   "metadata": {},
   "outputs": [],
   "source": [
    "markers_gene = markers_gene.apply(pd.Series.explode).reset_index()\n",
    "markers_gene = markers_gene.rename(columns={\"index\":'leiden'})"
   ]
  },
  {
   "cell_type": "code",
   "execution_count": null,
   "metadata": {},
   "outputs": [],
   "source": [
    "markers_gene.drop_duplicates([\"leiden\"]) "
   ]
  },
  {
   "cell_type": "markdown",
   "metadata": {},
   "source": [
    "### Set up for generating violin plots"
   ]
  },
  {
   "cell_type": "code",
   "execution_count": null,
   "metadata": {},
   "outputs": [],
   "source": [
    "def vplot_de(x, unique, specific_gene, specific_cluster, ax):\n",
    "    unique = unique.astype(str)\n",
    "    labels = unique\n",
    "    lidx = np.arange(1, len(labels)+1)  # the label locations\n",
    "    midx = np.where(unique==specific_cluster)[0][0]\n",
    "    \n",
    "    \n",
    "    parts = ax.violinplot(x, showmedians=False, showextrema=False)\n",
    "    for pcidx, pc in enumerate(parts['bodies']):\n",
    "        pc.set_facecolor('grey')\n",
    "        pc.set_edgecolor('black')\n",
    "        pc.set_alpha(1)\n",
    "        if pcidx == midx:\n",
    "            pc.set_facecolor('#D43F3A')\n",
    "            \n",
    "    mean = [np.mean(i) for i in x]\n",
    "    ax.scatter(lidx, mean, marker='o', color='white', s=30, zorder=3)\n",
    "    \n",
    "    ax.set_ylabel(\"$log(CPM + 1)$\".format(specific_gene))\n",
    "    ax.set_xticks(lidx)\n",
    "    ax.set_xticklabels(labels, rotation=0, ha=\"center\")\n",
    "    ax.set_title(\"{} gene in cluster {}\".format(specific_gene, specific_cluster))\n",
    "    \n",
    "    return ax"
   ]
  },
  {
   "cell_type": "code",
   "execution_count": null,
   "metadata": {},
   "outputs": [],
   "source": [
    "specific_cluster = markers_gene.drop_duplicates([\"leiden\"])[\"leiden\"].values\n",
    "specific_gene = markers_gene.drop_duplicates([\"leiden\"])[\"gene_name\"].values"
   ]
  },
  {
   "cell_type": "code",
   "execution_count": null,
   "metadata": {},
   "outputs": [],
   "source": [
    "unique"
   ]
  },
  {
   "cell_type": "markdown",
   "metadata": {},
   "source": [
    "### Plotting log(CPM+1) distributions for top marker genes in each cluster"
   ]
  },
  {
   "cell_type": "code",
   "execution_count": null,
   "metadata": {},
   "outputs": [],
   "source": [
    "length = len(specific_cluster)*5\n",
    "height = 3\n",
    "\n",
    "fig, ax = plt.subplots(figsize=(20,10), ncols = 3, nrows=4)\n",
    "\n",
    "axs = trim_axs(ax, len(specific_cluster))\n",
    "\n",
    "for sn, (spec_c, spec_g) in enumerate(zip(specific_cluster, specific_gene)):\n",
    "    x = []\n",
    "    for c in unique:\n",
    "        x.append(nd(data[data.obs.leiden==str(c)][:,data.var.gene_name==spec_g].layers[\"log1p\"].todense()).tolist())\n",
    "        \n",
    "    vplot_de(x, unique, spec_g, spec_c, ax=axs[sn])\n",
    "    \n",
    "    \n",
    "fig.text(0.5, 0, 'Leiden cluster', ha='center', va='center', fontsize=30)\n",
    "fig.text(0, 0.5, '$log(CPM +1)$', ha='center', va='center', rotation='vertical', fontsize=30)\n",
    "plt.tight_layout()\n",
    "\n",
    "plt.show()"
   ]
  },
  {
   "cell_type": "markdown",
   "metadata": {},
   "source": [
    "### Visualising the expression pattrerns of opsin genes "
   ]
  },
  {
   "cell_type": "code",
   "execution_count": null,
   "metadata": {},
   "outputs": [],
   "source": [
    "gene = \"RHO\" # Expression pattern of \"RHO\", to look at the expression pattern of another opsin gene change \"RHO\" with the gene symbol of another opsin gene, for example \"OPN1LW\"\n",
    "\n",
    "fig, ax = plt.subplots(figsize=(7,7))\n",
    "\n",
    "x = data.obsm[\"X_nca_tsne\"][:,0]\n",
    "y = data.obsm[\"X_nca_tsne\"][:,1]\n",
    "c = nd(data.layers[\"log1p\"].todense()[:,data.var.gene_name==gene])\n",
    "\n",
    "ax.scatter(x, y, c = c, cmap='Reds', alpha=0.5)\n",
    "\n",
    "ax.set_axis_off()\n",
    "ax.set_title(\"{} expression\".format(gene))\n",
    "plt.tight_layout()\n",
    "plt.show()"
   ]
  },
  {
   "cell_type": "markdown",
   "metadata": {},
   "source": [
    "### Annotating the t-SNE (using NCA projection) plot with the top marker gene for each cluster"
   ]
  },
  {
   "cell_type": "code",
   "execution_count": null,
   "metadata": {},
   "outputs": [],
   "source": [
    "fig, ax = plt.subplots(figsize=(10,10))\n",
    "\n",
    "c = np.unique(data.obs[\"leiden\"].values.astype(int)).astype(str)\n",
    "cmap = cm.get_cmap(\"tab20\")\n",
    "\n",
    "for idx, (cluster, gene) in enumerate(zip(c, specific_gene)):\n",
    "    XX = data[data.obs.leiden == cluster,:].obsm[\"X_nca_tsne\"]\n",
    "    \n",
    "    x = XX[:,0]\n",
    "    y = XX[:,1]\n",
    "    ax.scatter(x, y, color = cmap(idx), label=cluster)\n",
    "    ax.annotate(gene, \n",
    "             (np.mean(x), np.mean(y)),\n",
    "             horizontalalignment='center',\n",
    "             verticalalignment='center',\n",
    "             size=15, weight='bold',\n",
    "             color=\"white\",\n",
    "               backgroundcolor=cmap(idx)) \n",
    "    \n",
    "\n",
    "ax.legend(loc='center left', bbox_to_anchor=(1, 0.5))\n",
    "ax.set_axis_off()\n",
    "plt.show()"
   ]
  },
  {
   "cell_type": "markdown",
   "metadata": {},
   "source": [
    "### Generating a plot displaying CPM distribution for each top marker gene in each cluster "
   ]
  },
  {
   "cell_type": "code",
   "execution_count": null,
   "metadata": {},
   "outputs": [],
   "source": [
    "top_idx = [np.where(i == data.var.gene_name.values)[0][0] for i in specific_gene]"
   ]
  },
  {
   "cell_type": "code",
   "execution_count": null,
   "metadata": {},
   "outputs": [],
   "source": [
    "mat = data.layers[\"norm\"].todense()\n",
    "obs = data.obs\n",
    "var = data.var"
   ]
  },
  {
   "cell_type": "code",
   "execution_count": null,
   "metadata": {},
   "outputs": [],
   "source": [
    "fig, axs = plt.subplots(figsize=(20,20), nrows=len(unique))\n",
    "fig.subplots_adjust(wspace=0, hspace=0)\n",
    "\n",
    "\n",
    "labels = specific_gene\n",
    "lidx = np.arange(0, len(top_idx), 1)\n",
    "means = []\n",
    "\n",
    "for cidx, (c, ax) in enumerate(zip(unique, axs)):\n",
    "    tmp_mat = mat[obs.leiden==str(c),:]\n",
    "    \n",
    "    x = tmp_mat[:,top_idx]\n",
    "    means.append(nd(np.median(x,axis=0)))\n",
    "\n",
    "    v = ax.violinplot(x.T.tolist(), showmedians=False, showextrema=False, positions=lidx)\n",
    "\n",
    "    for pcidx, pc in enumerate(v['bodies']):\n",
    "        pc.set_edgecolor('black')\n",
    "        pc.set_alpha(1)\n",
    "        pc.set_facecolor(cm.tab20c(cidx))\n",
    "        \n",
    "\n",
    "    means = [np.mean(i) for i in x.T]\n",
    "    ax.scatter(lidx, means, marker='o', color='white', s=30, zorder=3)\n",
    " \n",
    "    if cidx==0:\n",
    "        ax_top = ax.twiny()\n",
    "        ax_top.set_xlim(ax.get_xlim())\n",
    "        ax_top.set_xticks(lidx)\n",
    "        ax_top.set_xticklabels(labels, rotation=90, ha=\"center\")\n",
    "        ax_top.spines[\"top\"].set_visible(True)\n",
    "        ax_top.spines[\"left\"].set_visible(False)\n",
    "        ax_top.spines[\"bottom\"].set_visible(False)\n",
    "    if cidx == len(unique)-1:\n",
    "        ax_bot = ax.twiny()\n",
    "        ax_bot.set_xticks([])\n",
    "        ax_bot.set_xticklabels([])\n",
    "        ax_bot.spines[\"top\"].set_visible(False)\n",
    "        ax_bot.spines[\"left\"].set_visible(False)\n",
    "        ax_bot.spines[\"bottom\"].set_visible(True)\n",
    "\n",
    "    ax.set_xticklabels(\"\")\n",
    "    ax.yaxis.tick_right()\n",
    "    ax.set_ylabel(\"{} [{:,}]\".format(c, x.shape[0]), color=\"white\",rotation=\"horizontal\", ha=\"right\",bbox=dict(boxstyle=\"square\",ec=\"black\",fc=cm.tab20c(cidx)))\n",
    "    \n",
    "\n",
    "    \n",
    "    lim = nd(x.mean(axis=0))[cidx]*4\n",
    "    \n",
    "    ax.set_ylim(-lim*0.1, lim)\n",
    "    \n",
    "    ax.yaxis.set_major_formatter(mpl.ticker.StrMethodFormatter('{x:,.0f}'))\n",
    "    \n",
    "    ax.spines[\"top\"].set_visible(False)\n",
    "    ax.spines[\"left\"].set_visible(False)\n",
    "    ax.spines[\"bottom\"].set_visible(False)\n",
    "\n",
    "        \n",
    "    \n",
    "    \n",
    "\n",
    "plt.tight_layout(pad=0, w_pad=0, h_pad=0)\n",
    "fig.text(1, 0.5, 'CPM ', ha='center', va='center', rotation=270, fontsize=30)\n",
    "plt.show()"
   ]
  },
  {
   "cell_type": "markdown",
   "metadata": {},
   "source": [
    "### Expression of marker genes for rod and cone photoreceptor cells"
   ]
  },
  {
   "cell_type": "markdown",
   "metadata": {},
   "source": [
    "### Code in the following two cells is commented out\n",
    "### Uncomment the code for marker genes for rod photoreceptor cells in the next cell and run the following cells as usual (don't uncomment code for marker genes for cone photoreceptor cells)\n",
    "### Repeat this process,but now for the code for marker genes for cone photoreceptor cells (comment code for marker genes for rod photoreceptor cells)"
   ]
  },
  {
   "cell_type": "markdown",
   "metadata": {},
   "source": [
    "#### Marker genes for rod photoreceptor cells"
   ]
  },
  {
   "cell_type": "code",
   "execution_count": null,
   "metadata": {},
   "outputs": [],
   "source": [
    "# markers = [\"RHO\",\"NRL\",\"GNAT1\",\"ROM1\",\"CNGA1\",\"SAG\",\"GNGT1\"]\n",
    "# features = data.var.gene_name.values"
   ]
  },
  {
   "cell_type": "markdown",
   "metadata": {},
   "source": [
    "#### Marker genes for cone photoreceptor cells"
   ]
  },
  {
   "cell_type": "code",
   "execution_count": null,
   "metadata": {},
   "outputs": [],
   "source": [
    "# markers = [\"ARR3\",\"GNAT2\",\"GNGT2\",\"GRK7\",\"PDE6C\",\"PDE6H\",\"OPN1LW\",\"RXRG\",\"THRB\"]\n",
    "# features = data.var.gene_name.values"
   ]
  },
  {
   "cell_type": "code",
   "execution_count": null,
   "metadata": {},
   "outputs": [],
   "source": [
    "midx = [np.where(i==features)[0][0] for i in markers]"
   ]
  },
  {
   "cell_type": "code",
   "execution_count": null,
   "metadata": {},
   "outputs": [],
   "source": [
    "assignments = data.obs.leiden.values"
   ]
  },
  {
   "cell_type": "code",
   "execution_count": null,
   "metadata": {},
   "outputs": [],
   "source": [
    "# for each cluster for each gene get two things\n",
    "# 1 percent of cells in the cluster expressing that gene\n",
    "# 2 average expression of that gene (for cells that are expressing it)\n",
    "\n",
    "\n",
    "per = np.zeros((len(unique), len(markers)))\n",
    "avg = np.zeros((len(unique), len(markers)))\n",
    "\n",
    "mtx = data.layers[\"log1p\"]#.todense()\n",
    "\n",
    "\n",
    "for cn, c in enumerate(unique):\n",
    "    tmp_mtx = mtx[assignments==c]\n",
    "    sub_mtx = tmp_mtx[:,midx]\n",
    "    \n",
    "    avg[cn] = nd(sub_mtx.mean(axis=0))\n",
    "    per[cn] = (sub_mtx>0).sum(axis=0)/sub_mtx.shape[0]"
   ]
  },
  {
   "cell_type": "code",
   "execution_count": null,
   "metadata": {},
   "outputs": [],
   "source": [
    "fig, ax = plt.subplots(figsize=(15,5))\n",
    "xidx = np.arange(len(markers))\n",
    "yidx = np.arange(len(unique))\n",
    "\n",
    "xlabels = markers\n",
    "ylabels = unique\n",
    "\n",
    "X, Y = np.meshgrid(xidx, yidx)\n",
    "\n",
    "\n",
    "for dn, d in enumerate(per):\n",
    "    a = ax.scatter(X[dn],Y[dn], s=d*500+10, c = avg[dn], cmap=\"OrRd\")\n",
    "\n",
    "ax.set_xticks(xidx)\n",
    "ax.set_yticks(yidx)\n",
    "\n",
    "ax.set_xticklabels(xlabels, rotation=90, ha=\"center\")\n",
    "ax.set_yticklabels(ylabels)\n",
    "\n",
    "ax.set_xlabel(\"Gene\")\n",
    "ax.set_ylabel(\"Cluster\")\n",
    "\n",
    "ax.figure.colorbar(a, ax=ax, label=\"$log(CPM+1)$\")\n",
    "\n",
    "handles =  [Line2D([0], [0], marker='o', color='w', label='  0%',markerfacecolor='black', markersize=7),\n",
    "            Line2D([0], [0], marker='o', color='w', label=' 25%',markerfacecolor='black', markersize=10),\n",
    "            Line2D([0], [0], marker='o', color='w', label=' 50%',markerfacecolor='black', markersize=12),\n",
    "            Line2D([0], [0], marker='o', color='w', label=' 75%',markerfacecolor='black', markersize=13.5),\n",
    "            Line2D([0], [0], marker='o', color='w', label='100%',markerfacecolor='black', markersize=17)]\n",
    "ax.legend(handles=handles, loc=\"center left\", bbox_to_anchor=(1.15,0.5), title=\"% of cells\")\n",
    "\n",
    "plt.show()"
   ]
  }
 ],
 "metadata": {
  "kernelspec": {
   "display_name": "Python 3",
   "language": "python",
   "name": "python3"
  },
  "language_info": {
   "codemirror_mode": {
    "name": "ipython",
    "version": 3
   },
   "file_extension": ".py",
   "mimetype": "text/x-python",
   "name": "python",
   "nbconvert_exporter": "python",
   "pygments_lexer": "ipython3",
   "version": "3.7.6"
  }
 },
 "nbformat": 4,
 "nbformat_minor": 4
}
